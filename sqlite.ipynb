{
 "cells": [
  {
   "cell_type": "code",
   "execution_count": 1,
   "metadata": {},
   "outputs": [],
   "source": [
    " %load_ext sql"
   ]
  },
  {
   "cell_type": "code",
   "execution_count": 2,
   "metadata": {},
   "outputs": [
    {
     "data": {
      "text/plain": [
       "'Connected: @library.db'"
      ]
     },
     "execution_count": 2,
     "metadata": {},
     "output_type": "execute_result"
    }
   ],
   "source": [
    "%sql sqlite:///library.db"
   ]
  },
  {
   "cell_type": "code",
   "execution_count": 305,
   "metadata": {},
   "outputs": [
    {
     "name": "stdout",
     "output_type": "stream",
     "text": [
      " * sqlite:///library.db\n",
      "Done.\n",
      "Done.\n",
      "Done.\n",
      "Done.\n",
      "Done.\n",
      "Done.\n",
      "Done.\n",
      "Done.\n",
      "Done.\n",
      "Done.\n",
      "Done.\n",
      "Done.\n",
      "Done.\n",
      "Done.\n",
      "Done.\n",
      "Done.\n",
      "Done.\n",
      "Done.\n",
      "Done.\n",
      "Done.\n",
      "Done.\n",
      "Done.\n",
      "Done.\n",
      "Done.\n",
      "Done.\n",
      "Done.\n",
      "Done.\n",
      "Done.\n",
      "Done.\n",
      "Done.\n",
      "Done.\n",
      "Done.\n",
      "Done.\n",
      "Done.\n",
      "Done.\n",
      "Done.\n",
      "Done.\n",
      "Done.\n"
     ]
    },
    {
     "data": {
      "text/plain": [
       "[]"
      ]
     },
     "execution_count": 305,
     "metadata": {},
     "output_type": "execute_result"
    }
   ],
   "source": [
    "%%sql\n",
    "\n",
    "\n",
    "DROP TABLE IF EXISTS CD;\n",
    "DROP TABLE IF EXISTS CD_Detail;\n",
    "DROP TABLE IF EXISTS Books;\n",
    "DROP TABLE IF EXISTS Book_Detail;\n",
    "DROP TABLE IF EXISTS Scientific_Journals;\n",
    "DROP TABLE IF EXISTS SJ_Detail;\n",
    "DROP TABLE IF EXISTS Magazines;\n",
    "DROP TABLE IF EXISTS Magazine_Detail;\n",
    "DROP TABLE IF EXISTS People;\n",
    "DROP TABLE IF EXISTS Items;\n",
    "DROP TABLE IF EXISTS Users;\n",
    "DROP TABLE IF EXISTS Personels;\n",
    "DROP TABLE IF EXISTS Borrowing;\n",
    "DROP TABLE IF EXISTS Request;\n",
    "DROP TABLE IF EXISTS Request_by;\n",
    "DROP TABLE IF EXISTS Event;\n",
    "DROP TABLE IF EXISTS Event_Detail;\n",
    "DROP TABLE IF EXISTS Hosted_by;\n",
    "DROP TABLE IF EXISTS Joining;\n",
    "\n",
    "\n",
    "/*****************\n",
    "*\tItems\n",
    "*****************/\n",
    "CREATE TABLE IF NOT EXISTS Items(\n",
    "    id INT PRIMARY KEY,\n",
    "    availability VARCHAR(8),\n",
    "    title VARCHAR(50),\n",
    "    releaseDate DATE,\n",
    "    CHECK (availability = 'available' \n",
    "\t\tOR availability = 'borrowed' \n",
    "\t\tOR availability = 'coming')\n",
    ");\n",
    "\n",
    "\n",
    "CREATE TABLE IF NOT EXISTS CD(\n",
    "    \tid INT PRIMARY KEY,\n",
    "    \tISRC VARCHAR(50),\n",
    "    \tFOREIGN KEY (id) REFERENCES Items(id)\n",
    ");\n",
    "\n",
    "CREATE TABLE IF NOT EXISTS CD_Detail(\n",
    "    \tISRC VARCHAR(50) PRIMARY KEY,\n",
    "    \tartist VARCHAR(50),\n",
    "    \tpublisher VARCHAR(50),\n",
    "\tgenre VARCHAR(30)\n",
    ");\n",
    "\n",
    "CREATE TABLE IF NOT EXISTS Magazines(\n",
    "\tid INT PRIMARY KEY,\n",
    "\tISSN VARCHAR(50),\n",
    "\tFOREIGN KEY (id) REFERENCES Items(id)\n",
    ");\n",
    "\n",
    "CREATE TABLE IF NOT EXISTS Magazine_Detail(\n",
    "\tISSN VARCHAR(50) PRIMARY KEY,\n",
    "\tgenre VARCHAR(30),\n",
    "\tpublisher VARCHAR(50)\n",
    ");\n",
    "\n",
    "CREATE TABLE IF NOT EXISTS Scientific_Journals(\n",
    "\tid INT PRIMARY KEY,\n",
    "\tISSN VARCHAR(50),\n",
    "\tFOREIGN KEY (id) REFERENCES Items(id)\n",
    ");\n",
    "\n",
    "CREATE TABLE IF NOT EXISTS SJ_Detail(\n",
    "\tISSN VARCHAR(50) PRIMARY KEY,\n",
    "\tfield VARCHAR(30),\n",
    "\tresearcher VARCHAR(50)\n",
    ");\n",
    "\n",
    "CREATE TABLE IF NOT EXISTS Books(\n",
    "\tid INT PRIMARY KEY,\n",
    "\tISBN VARCHAR(50),\n",
    "\tFOREIGN KEY (id) REFERENCES Items(id)\n",
    ");\n",
    "\n",
    "CREATE TABLE Book_Detail(\n",
    "\tISBN VARCHAR(50) PRIMARY KEY,\n",
    "\tauthor VARCHAR(50),\n",
    "\tgenre VARCHAR(30),\n",
    "\ttype VARCHAR(7),\n",
    "\tCHECK (type = 'printed' \n",
    "\t\tOR type = 'online')\n",
    ");\n",
    "/*****************\n",
    "*\tPeople\n",
    "*****************/\n",
    "CREATE TABLE IF NOT EXISTS People (\n",
    "\tpid INT PRIMARY KEY,\n",
    "\tfirstName VARCHAR(50),\n",
    "\tlastName VARCHAR(50),\n",
    "\taddress VARCHAR(256),\n",
    "\temail VARCHAR(50),\n",
    "\tphone VARCHAR(10)\n",
    ");\n",
    "\n",
    "CREATE TABLE IF NOT EXISTS Users (\n",
    "\tpid INT PRIMARY KEY,\n",
    "\ttotalFine INT,\n",
    "\tFOREIGN KEY (pid) REFERENCES People(pid)\n",
    "\tON DELETE CASCADE\n",
    ");\n",
    "\n",
    "CREATE TABLE IF NOT EXISTS Personels (\n",
    "\tpid INT PRIMARY KEY,\n",
    "\tsalary REAL,\n",
    "\tposition VARCHAR(30),\n",
    "\tFOREIGN KEY (pid) REFERENCES People(pid)\n",
    "\tON DELETE CASCADE\n",
    ");\n",
    "\n",
    "/*****************\n",
    "*\tEvent\n",
    "*****************/\n",
    "CREATE TABLE IF NOT EXISTS Event (\n",
    "\teid INT PRIMARY KEY,\n",
    "\tevent INT,\n",
    "    room VARCHAR(30),\n",
    "\teventDate DATE,\n",
    "\teventTime TIME\n",
    ");\n",
    "\n",
    "CREATE TABLE IF NOT EXISTS Event_Detail (\n",
    "    event INT PRIMARY KEY,\n",
    "    name VARCHAR (50) ,\n",
    "\ttype VARCHAR (30),\n",
    "\tdescription VARCHAR(300),\n",
    "\taudiences VARCHAR(30)\n",
    ");\n",
    "\n",
    "\n",
    "/****************\n",
    "*\tRequest\n",
    "*****************/\n",
    "CREATE TABLE IF NOT EXISTS Request (\n",
    "\trid INT PRIMARY KEY,\n",
    "\tdescription VARCHAR(300)\n",
    ");\n",
    "\n",
    "/*****************\n",
    "*\tRelationships\n",
    "*****************/\n",
    "CREATE TABLE IF NOT EXISTS Borrowing (\n",
    "\tid INT,\n",
    "\tuid INT,\n",
    "\tdateBorrowed DATE,\n",
    "\tdueDate DATE,\n",
    "\tfine INT,\n",
    "\tdateReturned DATE,\n",
    "\tPRIMARY KEY (id, uid),\n",
    "\tFOREIGN KEY (id) REFERENCES Items(id)\n",
    "\tON DELETE CASCADE,\n",
    "\tFOREIGN KEY (id) REFERENCES Users(pid)\n",
    "\tON DELETE CASCADE,\n",
    "\tCHECK (dateBorrowed < dueDate \n",
    "\t\tOR dateBorrowed < dateReturned)\n",
    ");\n",
    "\n",
    "CREATE TABLE IF NOT EXISTS Request_by (\n",
    "\trid INT,\n",
    "\tpid INT,\n",
    "\tPRIMARY KEY(rid,pid),\n",
    "\tFOREIGN KEY (rid) REFERENCES Request(rid)\n",
    "\tON DELETE CASCADE,\n",
    "\tFOREIGN KEY (pid) REFERENCES People(pid)\n",
    "\tON DELETE CASCADE\n",
    ");\n",
    "\n",
    "CREATE TABLE IF NOT EXISTS Hosted_by (\n",
    "\teid INT,\n",
    "\tpid INT,\n",
    "\tPRIMARY KEY(eid,pid),\n",
    "\tFOREIGN KEY (eid) REFERENCES Event(eid)\n",
    "\tON DELETE CASCADE,\n",
    "\tFOREIGN KEY (pid) REFERENCES People(pid)\n",
    "\tON DELETE CASCADE\n",
    ");\n",
    "\n",
    "CREATE TABLE IF NOT EXISTS Joining (\n",
    "\teid INT,\n",
    "\tpid INT,\n",
    "\tPRIMARY KEY(pid, eid),\n",
    "\tFOREIGN KEY (pid) REFERENCES People(pid)\n",
    "\tON DELETE CASCADE,\n",
    "\tFOREIGN KEY (eid) REFERENCES Event(eid)\n",
    "\tON DELETE CASCADE\n",
    ");\n",
    "\n"
   ]
  },
  {
   "cell_type": "code",
   "execution_count": 296,
   "metadata": {},
   "outputs": [
    {
     "name": "stdout",
     "output_type": "stream",
     "text": [
      " * sqlite:///library.db\n",
      "Done.\n",
      "Done.\n",
      "0 rows affected.\n"
     ]
    },
    {
     "data": {
      "text/plain": [
       "[]"
      ]
     },
     "execution_count": 296,
     "metadata": {},
     "output_type": "execute_result"
    }
   ],
   "source": [
    "%%sql\n",
    "\n",
    "/*****************\n",
    "*\tTriggers\n",
    "*****************/\n",
    "--When inserted to the Borrowing table, sets dateBorrowed and dueDate when not set\n",
    "CREATE TRIGGER IF NOT EXISTS borrowDate AFTER INSERT ON Borrowing\n",
    "FOR EACH ROW\n",
    "WHEN (NEW.dateBorrowed IS NULL)\n",
    "BEGIN \n",
    "    UPDATE Borrowing SET dateBorrowed = DATE('now') WHERE id = NEW.id;\n",
    "    UPDATE Borrowing SET dueDATE = DATE('now','+14 day') WHERE dueDate IS NULL AND id = NEW.id;\n",
    "END;\n",
    "\n",
    "CREATE TRIGGER IF NOT EXISTS fine AFTER UPDATE ON Borrowing\n",
    "FOR EACH ROW\n",
    "WHEN (NEW.dateReturned IS NOT NULL AND NEW.dueDate IS NOT NULL)\n",
    "BEGIN\n",
    "    UPDATE Borrowing SET fine = JulianDay(NEW.dateReturned) - JulianDay(NEW.dueDate) WHERE id = NEW.id;\n",
    "END;\n",
    "\n",
    "/*\n",
    "CREATE TRIGGER IF NOT EXISTS fine AFTER UPDATE ON Borrowing\n",
    "FOR EACH ROW\n",
    "WHEN (NEW.dateReturned IS NOT NULL AND NEW.dueDate IS NOT NULL)\n",
    "BEGIN\n",
    "    SET NEW.fine = \n",
    "    case \n",
    "    when julianday(NEW.dateReturned) - julianday(NEW.dueDate) < 0 THEN 0\n",
    "    else julianday(NEW.dateReturned) - julianday(NEW.dueDate)\n",
    "    END WHERE id = NEW.id;\n",
    "END;\n",
    "*/"
   ]
  },
  {
   "cell_type": "code",
   "execution_count": 306,
   "metadata": {},
   "outputs": [
    {
     "name": "stdout",
     "output_type": "stream",
     "text": [
      " * sqlite:///library.db\n",
      "Done.\n",
      "1 rows affected.\n",
      "1 rows affected.\n",
      "1 rows affected.\n",
      "1 rows affected.\n",
      "1 rows affected.\n"
     ]
    },
    {
     "data": {
      "text/plain": [
       "[]"
      ]
     },
     "execution_count": 306,
     "metadata": {},
     "output_type": "execute_result"
    }
   ],
   "source": [
    "%%sql\n",
    "\n",
    "/*****************\n",
    "*\tInsert\n",
    "*****************/\n",
    "\n",
    "INSERT INTO People (pid, firstName, lastName, address, email, phone)\n",
    "    VALUES (123,'Nikola', 'Maeda', '4306 Triumph st', 'nikobox', '323');\n",
    "INSERT INTO Users (pid, totalFine) VALUES (123, 0);\n",
    "INSERT INTO Items (id) VALUES (1);\n",
    "INSERT INTO Books (id) VALUES (1);\n",
    "INSERT INTO Borrowing(id, uid) VALUES (1,123);\n",
    "UPDATE Borrowing SET dateReturned = DATE('2019-06-15') WHERE id = 1;"
   ]
  },
  {
   "cell_type": "code",
   "execution_count": 307,
   "metadata": {},
   "outputs": [
    {
     "name": "stdout",
     "output_type": "stream",
     "text": [
      " * sqlite:///library.db\n"
     ]
    },
    {
     "data": {
      "text/plain": [
       "'Connected: @library.db'"
      ]
     },
     "execution_count": 307,
     "metadata": {},
     "output_type": "execute_result"
    }
   ],
   "source": [
    "%%sql\n",
    "\n",
    "\n"
   ]
  },
  {
   "cell_type": "code",
   "execution_count": 308,
   "metadata": {},
   "outputs": [
    {
     "name": "stdout",
     "output_type": "stream",
     "text": [
      " * sqlite:///library.db\n",
      "Done.\n"
     ]
    },
    {
     "data": {
      "text/html": [
       "<table>\n",
       "    <tr>\n",
       "        <th>id</th>\n",
       "        <th>uid</th>\n",
       "        <th>dateBorrowed</th>\n",
       "        <th>dueDate</th>\n",
       "        <th>fine</th>\n",
       "        <th>dateReturned</th>\n",
       "    </tr>\n",
       "    <tr>\n",
       "        <td>1</td>\n",
       "        <td>123</td>\n",
       "        <td>None</td>\n",
       "        <td>None</td>\n",
       "        <td>None</td>\n",
       "        <td>2019-06-15</td>\n",
       "    </tr>\n",
       "</table>"
      ],
      "text/plain": [
       "[(1, 123, None, None, None, '2019-06-15')]"
      ]
     },
     "execution_count": 308,
     "metadata": {},
     "output_type": "execute_result"
    }
   ],
   "source": [
    "%%sql\n",
    "select * from Borrowing;"
   ]
  }
 ],
 "metadata": {
  "kernelspec": {
   "display_name": "Python 3",
   "language": "python",
   "name": "python3"
  },
  "language_info": {
   "codemirror_mode": {
    "name": "ipython",
    "version": 3
   },
   "file_extension": ".py",
   "mimetype": "text/x-python",
   "name": "python",
   "nbconvert_exporter": "python",
   "pygments_lexer": "ipython3",
   "version": "3.7.4"
  }
 },
 "nbformat": 4,
 "nbformat_minor": 2
}
