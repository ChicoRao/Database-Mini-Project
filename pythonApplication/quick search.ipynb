{
 "cells": [
  {
   "cell_type": "code",
   "execution_count": 1,
   "metadata": {},
   "outputs": [],
   "source": [
    "%load_ext sql"
   ]
  },
  {
   "cell_type": "code",
   "execution_count": 2,
   "metadata": {},
   "outputs": [
    {
     "data": {
      "text/plain": [
       "'Connected: @library.db'"
      ]
     },
     "execution_count": 2,
     "metadata": {},
     "output_type": "execute_result"
    }
   ],
   "source": [
    "%sql sqlite:///library.db"
   ]
  },
  {
   "cell_type": "code",
   "execution_count": 6,
   "metadata": {},
   "outputs": [
    {
     "name": "stdout",
     "output_type": "stream",
     "text": [
      " * sqlite:///library.db\n",
      "Done.\n"
     ]
    },
    {
     "data": {
      "text/html": [
       "<table>\n",
       "    <tr>\n",
       "        <th>id</th>\n",
       "        <th>uid</th>\n",
       "        <th>dateBorrowed</th>\n",
       "        <th>dateReturned</th>\n",
       "        <th>dueDate</th>\n",
       "        <th>fine</th>\n",
       "    </tr>\n",
       "    <tr>\n",
       "        <td>2</td>\n",
       "        <td>1</td>\n",
       "        <td>2020-01-06</td>\n",
       "        <td>2020-01-11</td>\n",
       "        <td>2020-01-20</td>\n",
       "        <td>0</td>\n",
       "    </tr>\n",
       "    <tr>\n",
       "        <td>5</td>\n",
       "        <td>1</td>\n",
       "        <td>2020-01-06</td>\n",
       "        <td>2020-01-11</td>\n",
       "        <td>2020-01-20</td>\n",
       "        <td>0</td>\n",
       "    </tr>\n",
       "    <tr>\n",
       "        <td>8</td>\n",
       "        <td>8</td>\n",
       "        <td>2019-11-12</td>\n",
       "        <td>2019-11-28</td>\n",
       "        <td>2019-11-26</td>\n",
       "        <td>2</td>\n",
       "    </tr>\n",
       "    <tr>\n",
       "        <td>23</td>\n",
       "        <td>9</td>\n",
       "        <td>2020-03-03</td>\n",
       "        <td>2020-03-20</td>\n",
       "        <td>2020-03-17</td>\n",
       "        <td>3</td>\n",
       "    </tr>\n",
       "    <tr>\n",
       "        <td>11</td>\n",
       "        <td>9</td>\n",
       "        <td>2019-12-01</td>\n",
       "        <td>2019-12-17</td>\n",
       "        <td>2019-12-15</td>\n",
       "        <td>2</td>\n",
       "    </tr>\n",
       "    <tr>\n",
       "        <td>20</td>\n",
       "        <td>10</td>\n",
       "        <td>2020-01-11</td>\n",
       "        <td>2020-01-26</td>\n",
       "        <td>2020-01-25</td>\n",
       "        <td>1</td>\n",
       "    </tr>\n",
       "    <tr>\n",
       "        <td>28</td>\n",
       "        <td>11</td>\n",
       "        <td>2019-09-12</td>\n",
       "        <td>2019-09-28</td>\n",
       "        <td>2019-09-26</td>\n",
       "        <td>2</td>\n",
       "    </tr>\n",
       "    <tr>\n",
       "        <td>3</td>\n",
       "        <td>11</td>\n",
       "        <td>2020-02-02</td>\n",
       "        <td>2020-02-17</td>\n",
       "        <td>2020-01-16</td>\n",
       "        <td>1</td>\n",
       "    </tr>\n",
       "    <tr>\n",
       "        <td>13</td>\n",
       "        <td>12</td>\n",
       "        <td>2019-10-26</td>\n",
       "        <td>2019-10-28</td>\n",
       "        <td>2019-11-09</td>\n",
       "        <td>0</td>\n",
       "    </tr>\n",
       "    <tr>\n",
       "        <td>34</td>\n",
       "        <td>18</td>\n",
       "        <td>2020-02-02</td>\n",
       "        <td>2020-02-22</td>\n",
       "        <td>2020-02-16</td>\n",
       "        <td>6</td>\n",
       "    </tr>\n",
       "</table>"
      ],
      "text/plain": [
       "[(2, 1, '2020-01-06', '2020-01-11', '2020-01-20', 0),\n",
       " (5, 1, '2020-01-06', '2020-01-11', '2020-01-20', 0),\n",
       " (8, 8, '2019-11-12', '2019-11-28', '2019-11-26', 2),\n",
       " (23, 9, '2020-03-03', '2020-03-20', '2020-03-17', 3),\n",
       " (11, 9, '2019-12-01', '2019-12-17', '2019-12-15', 2),\n",
       " (20, 10, '2020-01-11', '2020-01-26', '2020-01-25', 1),\n",
       " (28, 11, '2019-09-12', '2019-09-28', '2019-09-26', 2),\n",
       " (3, 11, '2020-02-02', '2020-02-17', '2020-01-16', 1),\n",
       " (13, 12, '2019-10-26', '2019-10-28', '2019-11-09', 0),\n",
       " (34, 18, '2020-02-02', '2020-02-22', '2020-02-16', 6)]"
      ]
     },
     "execution_count": 6,
     "metadata": {},
     "output_type": "execute_result"
    }
   ],
   "source": [
    "%%sql\n",
    "select * from Borrowing;\n"
   ]
  },
  {
   "cell_type": "code",
   "execution_count": null,
   "metadata": {},
   "outputs": [],
   "source": [
    "delete from Borrowing where id=27"
   ]
  },
  {
   "cell_type": "code",
   "execution_count": null,
   "metadata": {},
   "outputs": [],
   "source": []
  }
 ],
 "metadata": {
  "kernelspec": {
   "display_name": "Python 3",
   "language": "python",
   "name": "python3"
  },
  "language_info": {
   "codemirror_mode": {
    "name": "ipython",
    "version": 3
   },
   "file_extension": ".py",
   "mimetype": "text/x-python",
   "name": "python",
   "nbconvert_exporter": "python",
   "pygments_lexer": "ipython3",
   "version": "3.7.4"
  }
 },
 "nbformat": 4,
 "nbformat_minor": 2
}
